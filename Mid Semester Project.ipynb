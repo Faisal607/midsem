{
 "cells": [
  {
   "cell_type": "markdown",
   "metadata": {},
   "source": [
    "\n",
    "## Instructions:\n",
    "\n",
    "This notebook  would provide details on your mid semester project. Carefully read and follow all instructions needed to complete the project. The project deadline is Tuesday, **10th November, 2020**.\n",
    "\n",
    "**How to Submit:** Your final project should include a jupyter notebook that should be compiled with **no errors !**.  Also, include a well written report that will detail your findings from the project as well as lessons learnt. Both notebook and report should be pushed to your github pages and link shared with deborah.kanubala@acity.edu.gh and copy kwesi.cobbina@acity.edu.gh. Please do not forget to include a README.md to your repository.  \n",
    "\n",
    "\n",
    "**Data and Task:** The data you would be working with is the [boston dataset](http://scikit-learn.org/stable/modules/generated/sklearn.datasets.load_boston.html) and the goal is to build a robust regression model to predict house prices and use the mean squared error as an evaluation metric. I have already loaded the data and put it in a dataframe for your use.\n"
   ]
  },
  {
   "cell_type": "code",
   "execution_count": null,
   "metadata": {},
   "outputs": [],
   "source": []
  },
  {
   "cell_type": "code",
   "execution_count": 7,
   "metadata": {
    "scrolled": true
   },
   "outputs": [],
   "source": [
    "import pandas as pd # import pandas for dataframes\n",
    "from sklearn.datasets import load_boston # import data from sklearn\n",
    "boston = load_boston() \n",
    "boston_df = pd.DataFrame(boston.data)\n",
    "boston_df.columns= boston.feature_names\n",
    "boston_df['price' ]= boston.target\n"
   ]
  },
  {
   "cell_type": "code",
   "execution_count": 6,
   "metadata": {},
   "outputs": [
    {
     "ename": "SyntaxError",
     "evalue": "invalid syntax (<ipython-input-6-aa9a43882b92>, line 7)",
     "output_type": "error",
     "traceback": [
      "\u001b[1;36m  File \u001b[1;32m\"<ipython-input-6-aa9a43882b92>\"\u001b[1;36m, line \u001b[1;32m7\u001b[0m\n\u001b[1;33m    matplotlib inline\u001b[0m\n\u001b[1;37m               ^\u001b[0m\n\u001b[1;31mSyntaxError\u001b[0m\u001b[1;31m:\u001b[0m invalid syntax\n"
     ]
    }
   ],
   "source": [
    "from sklearn.model_selection import train_test_split\n",
    "from sklearn.linear_model import LinearRegression\n",
    "import matplotlib.pyplot as plt\n",
    "from sklearn import matrics\n",
    "import matplotlib.pyplot as plt\n",
    "from sklearn import matrics\n",
    "matplotlib inline\n",
    "boston = load_boston()\n",
    "boston_df = pd.dataFrame(boston.data)\n",
    "boston_df.columns= boston.feature_names\n",
    "boston_df['price' ]= boston.target"
   ]
  },
  {
   "cell_type": "code",
   "execution_count": 3,
   "metadata": {},
   "outputs": [],
   "source": [
    "matplotlib inline"
   ]
  },
  {
   "cell_type": "code",
   "execution_count": null,
   "metadata": {},
   "outputs": [],
   "source": [
    "x =boston_df[['CRIM', 'TAX', 'PTRATIO', 'B', 'ZN', 'INDUS', 'CHAS', 'NOX', 'RM', 'AGE', 'DIS', 'RAD', 'LSTAT']]\n",
    "y =boston_df['price']"
   ]
  },
  {
   "cell_type": "code",
   "execution_count": 9,
   "metadata": {},
   "outputs": [
    {
     "ename": "SyntaxError",
     "evalue": "positional argument follows keyword argument (<ipython-input-9-46711a035bc3>, line 1)",
     "output_type": "error",
     "traceback": [
      "\u001b[1;36m  File \u001b[1;32m\"<ipython-input-9-46711a035bc3>\"\u001b[1;36m, line \u001b[1;32m1\u001b[0m\n\u001b[1;33m    x_train, x_test, y_train, y_test = train_test_split(x, y, test_size=0.25, random_state-49)\u001b[0m\n\u001b[1;37m                                                                              ^\u001b[0m\n\u001b[1;31mSyntaxError\u001b[0m\u001b[1;31m:\u001b[0m positional argument follows keyword argument\n"
     ]
    }
   ],
   "source": [
    "x_train, x_test, y_train, y_test = train_test_split(x, y, test_size=0.25, random_state-49)"
   ]
  },
  {
   "cell_type": "code",
   "execution_count": 8,
   "metadata": {},
   "outputs": [
    {
     "ename": "NameError",
     "evalue": "name 'x_train' is not defined",
     "output_type": "error",
     "traceback": [
      "\u001b[1;31m---------------------------------------------------------------------------\u001b[0m",
      "\u001b[1;31mNameError\u001b[0m                                 Traceback (most recent call last)",
      "\u001b[1;32m<ipython-input-8-3fc8cfffd18f>\u001b[0m in \u001b[0;36m<module>\u001b[1;34m\u001b[0m\n\u001b[1;32m----> 1\u001b[1;33m \u001b[0mprint\u001b[0m\u001b[1;33m(\u001b[0m\u001b[1;34m\"shape of xtrain:\"\u001b[0m\u001b[1;33m,\u001b[0m \u001b[0mx_train\u001b[0m\u001b[1;33m.\u001b[0m\u001b[0mshape\u001b[0m\u001b[1;33m)\u001b[0m\u001b[1;33m\u001b[0m\u001b[1;33m\u001b[0m\u001b[0m\n\u001b[0m\u001b[0;32m      2\u001b[0m \u001b[0mprint\u001b[0m\u001b[1;33m(\u001b[0m\u001b[1;34m\"shape of ytrain:\"\u001b[0m\u001b[1;33m,\u001b[0m \u001b[0my_train\u001b[0m\u001b[1;33m.\u001b[0m\u001b[0mshape\u001b[0m\u001b[1;33m)\u001b[0m\u001b[1;33m\u001b[0m\u001b[1;33m\u001b[0m\u001b[0m\n\u001b[0;32m      3\u001b[0m \u001b[0mprint\u001b[0m\u001b[1;33m(\u001b[0m\u001b[1;34m\"shape of xtest:\"\u001b[0m\u001b[1;33m,\u001b[0m \u001b[0mx_test\u001b[0m\u001b[1;33m.\u001b[0m\u001b[0mshape\u001b[0m\u001b[1;33m)\u001b[0m\u001b[1;33m\u001b[0m\u001b[1;33m\u001b[0m\u001b[0m\n\u001b[0;32m      4\u001b[0m \u001b[0mprint\u001b[0m\u001b[1;33m(\u001b[0m\u001b[1;34m\"shape of ytest:\"\u001b[0m\u001b[1;33m,\u001b[0m \u001b[0my_test\u001b[0m\u001b[1;33m.\u001b[0m\u001b[0mshape\u001b[0m\u001b[1;33m)\u001b[0m\u001b[1;33m\u001b[0m\u001b[1;33m\u001b[0m\u001b[0m\n",
      "\u001b[1;31mNameError\u001b[0m: name 'x_train' is not defined"
     ]
    }
   ],
   "source": [
    "print(\"shape of xtrain:\", x_train.shape)\n",
    "print(\"shape of ytrain:\", y_train.shape)\n",
    "print(\"shape of xtest:\", x_test.shape)\n",
    "print(\"shape of ytest:\", y_test.shape)"
   ]
  },
  {
   "cell_type": "markdown",
   "metadata": {},
   "source": [
    "## To Do:\n",
    "\n",
    "Most importantly, your notebook should include your linear regression model and evaluation metric. However, you can follow the steps in carrying out your  machine learning project\n",
    "\n",
    "1. Clean data by identifying if there are any missing values, outliers or need for standardization.\n",
    "\n",
    "2. Carry out basic exploratory analysis by plotting bar plots, histograms, pie charts etc depending on your preference and data type.\n",
    "\n",
    "3. Split the data into train and test by using 25% of the data for testing and the remaining data for training the model.\n",
    "\n",
    "\n",
    "4. Evaluate the performance of your model using MSE.\n",
    "\n",
    "\n",
    "5. Push your notebook and final report to github.\n",
    "\n",
    "\n",
    "### Commit to Github:\n",
    "\n",
    "- Create a github repository for your project from your github account\n",
    "\n",
    "- Clone the repo directly into your local system\n",
    "\n",
    "- Create your notebook and everything else you need to work with in the same location where you cloned your repo.\n",
    "\n",
    "- Do all your work and once is done use these to commit to github:\n",
    "\n",
    "        * git add .\n",
    "        * git commit -m \"some text here\"\n",
    "        * git push\n",
    "        \n",
    "\n",
    "\n",
    "\n",
    "\n"
   ]
  },
  {
   "cell_type": "markdown",
   "metadata": {},
   "source": [
    "#####  I wish you the best of luck and you can always write to me or Kwesi if you have any questions"
   ]
  }
 ],
 "metadata": {
  "kernelspec": {
   "display_name": "Python 3",
   "language": "python",
   "name": "python3"
  },
  "language_info": {
   "codemirror_mode": {
    "name": "ipython",
    "version": 3
   },
   "file_extension": ".py",
   "mimetype": "text/x-python",
   "name": "python",
   "nbconvert_exporter": "python",
   "pygments_lexer": "ipython3",
   "version": "3.8.3"
  }
 },
 "nbformat": 4,
 "nbformat_minor": 4
}
